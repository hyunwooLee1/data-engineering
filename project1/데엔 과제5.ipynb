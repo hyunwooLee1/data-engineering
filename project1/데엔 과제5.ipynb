{
 "cells": [
  {
   "cell_type": "code",
   "execution_count": 1,
   "id": "6bf37eec",
   "metadata": {},
   "outputs": [],
   "source": [
    "import numpy as np\n",
    "import pandas as pd"
   ]
  },
  {
   "cell_type": "code",
   "execution_count": 2,
   "id": "64d3de0e",
   "metadata": {},
   "outputs": [],
   "source": [
    "data = pd.read_csv('data/president_heights.csv')"
   ]
  },
  {
   "cell_type": "code",
   "execution_count": 3,
   "id": "f7795ec7",
   "metadata": {},
   "outputs": [
    {
     "name": "stdout",
     "output_type": "stream",
     "text": [
      "[189 170 189 163 183 171 185 168 173 183 173 173 175 178 183 193 178 173\n",
      " 174 183 183 168 170 178 182 180 183 178 182 188 175 179 183 193 182 183\n",
      " 177 185 188 188 182 185]\n"
     ]
    }
   ],
   "source": [
    "heights = np.array(data['height(cm)'])\n",
    "print(heights)"
   ]
  },
  {
   "cell_type": "code",
   "execution_count": 7,
   "id": "d2ef7ee1",
   "metadata": {},
   "outputs": [
    {
     "name": "stdout",
     "output_type": "stream",
     "text": [
      "Mean height =  179.73809523809524\n",
      "Standard deviation =  6.931843442745892\n",
      "Minimum height =  163\n",
      "Maximum height =  193\n",
      "25th percentile =  [174.25]\n",
      "Median =  182.0\n",
      "75th percentile =  [183.]\n",
      "15\n"
     ]
    }
   ],
   "source": [
    "Mean = np.mean(heights)\n",
    "std = np.std(heights)\n",
    "mn = np.min(heights)\n",
    "mx = np.max(heights)\n",
    "two = np.percentile(heights, [25])\n",
    "med = np.median(heights)\n",
    "seven = np.percentile(heights, [75])\n",
    "\n",
    "print(\"Mean height = \", Mean)\n",
    "print(\"Standard deviation = \", std)\n",
    "print(\"Minimum height = \", mn)\n",
    "print(\"Maximum height = \", mx)\n",
    "print(\"25th percentile = \", two)\n",
    "print(\"Median = \", med)\n",
    "print(\"75th percentile = \", seven)\n",
    "\n"
   ]
  },
  {
   "cell_type": "code",
   "execution_count": 23,
   "id": "ed50dc40",
   "metadata": {},
   "outputs": [
    {
     "ename": "AttributeError",
     "evalue": "'numpy.int64' object has no attribute 'index'",
     "output_type": "error",
     "traceback": [
      "\u001b[1;31m---------------------------------------------------------------------------\u001b[0m",
      "\u001b[1;31mAttributeError\u001b[0m                            Traceback (most recent call last)",
      "Input \u001b[1;32mIn [23]\u001b[0m, in \u001b[0;36m<cell line: 1>\u001b[1;34m()\u001b[0m\n\u001b[1;32m----> 1\u001b[0m \u001b[43mmx\u001b[49m\u001b[38;5;241;43m.\u001b[39;49m\u001b[43mindex\u001b[49m\n",
      "\u001b[1;31mAttributeError\u001b[0m: 'numpy.int64' object has no attribute 'index'"
     ]
    }
   ],
   "source": [
    "maxid = np.argmax(heights)\n",
    "minid = np.argmin(heights)\n",
    "print(\"max_idx = \", maxid)\n",
    "print(\"min_idx = \")"
   ]
  },
  {
   "cell_type": "code",
   "execution_count": null,
   "id": "044b3dd3",
   "metadata": {},
   "outputs": [],
   "source": []
  }
 ],
 "metadata": {
  "kernelspec": {
   "display_name": "Python 3 (ipykernel)",
   "language": "python",
   "name": "python3"
  },
  "language_info": {
   "codemirror_mode": {
    "name": "ipython",
    "version": 3
   },
   "file_extension": ".py",
   "mimetype": "text/x-python",
   "name": "python",
   "nbconvert_exporter": "python",
   "pygments_lexer": "ipython3",
   "version": "3.9.12"
  }
 },
 "nbformat": 4,
 "nbformat_minor": 5
}
