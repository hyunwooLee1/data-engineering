{
 "cells": [
  {
   "cell_type": "code",
   "execution_count": 1,
   "id": "157db51a-017e-4fd1-bc0e-44d7c384bb75",
   "metadata": {},
   "outputs": [],
   "source": [
    "subjects = [\"physics\", \"calculus\", \"poetry\", \"history\"]"
   ]
  },
  {
   "cell_type": "code",
   "execution_count": 2,
   "id": "4830c2c5-4650-4d63-992e-02e2fb20bcbe",
   "metadata": {},
   "outputs": [],
   "source": [
    "grades = [98, 97, 85, 88]"
   ]
  },
  {
   "cell_type": "code",
   "execution_count": 3,
   "id": "6857ff37-02f8-48d6-baea-a1f316f87fa3",
   "metadata": {},
   "outputs": [],
   "source": [
    "gradebook = [[\"physics\", 98], [\"calculus\", 97], [\"poetry\", 85], [\"history\", 88]]"
   ]
  },
  {
   "cell_type": "code",
   "execution_count": 4,
   "id": "ceef3050-079b-4514-83e9-57cf94ad4751",
   "metadata": {},
   "outputs": [
    {
     "name": "stdout",
     "output_type": "stream",
     "text": [
      "[['physics', 98], ['calculus', 97], ['poetry', 85], ['history', 88]]\n"
     ]
    }
   ],
   "source": [
    "print(gradebook)"
   ]
  },
  {
   "cell_type": "code",
   "execution_count": 7,
   "id": "9e568bc8-5960-4fe8-aa02-2a58a399b817",
   "metadata": {},
   "outputs": [],
   "source": [
    "subjects.append(\"computer science\")\n",
    "grades.append(100)\n",
    "gradebook.append([\"compluter science\", 100])"
   ]
  },
  {
   "cell_type": "code",
   "execution_count": 8,
   "id": "67fd1f08-12f8-4f34-b7f4-64c6c6fb0ff6",
   "metadata": {},
   "outputs": [],
   "source": [
    "subjects.append(\"visual arts\")\n",
    "grades.append(93)\n",
    "gradebook.append([\"visual arts\", 93])"
   ]
  },
  {
   "cell_type": "code",
   "execution_count": 9,
   "id": "655aa7cb-4b7f-410b-b006-97f68f537247",
   "metadata": {},
   "outputs": [
    {
     "name": "stdout",
     "output_type": "stream",
     "text": [
      "[['physics', 98], ['calculus', 97], ['poetry', 85], ['history', 88], ['compluter science', 100], ['visual arts', 93]]\n"
     ]
    }
   ],
   "source": [
    "print(gradebook)"
   ]
  },
  {
   "cell_type": "code",
   "execution_count": 10,
   "id": "2ed99cdd-cf27-4f11-aeaf-5660c5446ae9",
   "metadata": {},
   "outputs": [],
   "source": [
    "gradebook[5][1] = 98"
   ]
  },
  {
   "cell_type": "code",
   "execution_count": 22,
   "id": "b66c0323-59f5-4a4f-aac0-0b1469a306fd",
   "metadata": {},
   "outputs": [],
   "source": [
    "gradebook[2].remove(85)"
   ]
  },
  {
   "cell_type": "code",
   "execution_count": 23,
   "id": "d6462e27-375c-46b7-ac22-0b1448452429",
   "metadata": {},
   "outputs": [],
   "source": [
    "gradebook[2].append(\"pass\")"
   ]
  },
  {
   "cell_type": "code",
   "execution_count": 24,
   "id": "89b98798-7db6-472d-9d30-46e9d64d45a0",
   "metadata": {},
   "outputs": [
    {
     "name": "stdout",
     "output_type": "stream",
     "text": [
      "[['physics', 98], ['calculus', 97], ['poetry', 'pass'], ['history', 88], ['compluter science', 100], ['visual arts', 98]]\n"
     ]
    }
   ],
   "source": [
    "print(gradebook)"
   ]
  },
  {
   "cell_type": "code",
   "execution_count": 25,
   "id": "f113b9ed-61f8-4264-9201-61a4f65b748b",
   "metadata": {},
   "outputs": [],
   "source": [
    "last_semester_gradebook = [[\"politics\", 80], [\"latin\", 96], [\"dance\", 97], [\"architecture\", 65]]"
   ]
  },
  {
   "cell_type": "code",
   "execution_count": 26,
   "id": "b3420dca-f0cb-4e58-b64f-234f107809e5",
   "metadata": {},
   "outputs": [],
   "source": [
    "full_gradebook = last_semester_gradebook + gradebook"
   ]
  },
  {
   "cell_type": "code",
   "execution_count": 27,
   "id": "de22aefe-9cad-496b-b859-75064874ad95",
   "metadata": {},
   "outputs": [
    {
     "name": "stdout",
     "output_type": "stream",
     "text": [
      "[['politics', 80], ['latin', 96], ['dance', 97], ['architecture', 65], ['physics', 98], ['calculus', 97], ['poetry', 'pass'], ['history', 88], ['compluter science', 100], ['visual arts', 98]]\n"
     ]
    }
   ],
   "source": [
    "print(full_gradebook)"
   ]
  },
  {
   "cell_type": "code",
   "execution_count": null,
   "id": "13d89d20-542a-4766-a40b-dd487f2b90c3",
   "metadata": {},
   "outputs": [],
   "source": []
  }
 ],
 "metadata": {
  "kernelspec": {
   "display_name": "Python 3 (ipykernel)",
   "language": "python",
   "name": "python3"
  },
  "language_info": {
   "codemirror_mode": {
    "name": "ipython",
    "version": 3
   },
   "file_extension": ".py",
   "mimetype": "text/x-python",
   "name": "python",
   "nbconvert_exporter": "python",
   "pygments_lexer": "ipython3",
   "version": "3.9.12"
  }
 },
 "nbformat": 4,
 "nbformat_minor": 5
}
